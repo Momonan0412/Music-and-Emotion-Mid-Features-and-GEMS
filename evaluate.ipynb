{
 "cells": [
  {
   "cell_type": "code",
   "execution_count": 1,
   "id": "547da90d",
   "metadata": {},
   "outputs": [
    {
     "name": "stderr",
     "output_type": "stream",
     "text": [
      "2025-04-26 14:58:06.781863: I tensorflow/core/util/port.cc:153] oneDNN custom operations are on. You may see slightly different numerical results due to floating-point round-off errors from different computation orders. To turn them off, set the environment variable `TF_ENABLE_ONEDNN_OPTS=0`.\n",
      "2025-04-26 14:58:06.794768: E external/local_xla/xla/stream_executor/cuda/cuda_fft.cc:467] Unable to register cuFFT factory: Attempting to register factory for plugin cuFFT when one has already been registered\n",
      "WARNING: All log messages before absl::InitializeLog() is called are written to STDERR\n",
      "E0000 00:00:1745650686.806008   14408 cuda_dnn.cc:8579] Unable to register cuDNN factory: Attempting to register factory for plugin cuDNN when one has already been registered\n",
      "E0000 00:00:1745650686.809519   14408 cuda_blas.cc:1407] Unable to register cuBLAS factory: Attempting to register factory for plugin cuBLAS when one has already been registered\n",
      "W0000 00:00:1745650686.818738   14408 computation_placer.cc:177] computation placer already registered. Please check linkage and avoid linking the same target more than once.\n",
      "W0000 00:00:1745650686.818758   14408 computation_placer.cc:177] computation placer already registered. Please check linkage and avoid linking the same target more than once.\n",
      "W0000 00:00:1745650686.818759   14408 computation_placer.cc:177] computation placer already registered. Please check linkage and avoid linking the same target more than once.\n",
      "W0000 00:00:1745650686.818760   14408 computation_placer.cc:177] computation placer already registered. Please check linkage and avoid linking the same target more than once.\n",
      "2025-04-26 14:58:06.823120: I tensorflow/core/platform/cpu_feature_guard.cc:210] This TensorFlow binary is optimized to use available CPU instructions in performance-critical operations.\n",
      "To enable the following instructions: AVX2 AVX_VNNI FMA, in other operations, rebuild TensorFlow with the appropriate compiler flags.\n"
     ]
    },
    {
     "name": "stdout",
     "output_type": "stream",
     "text": [
      "2.19.0\n"
     ]
    }
   ],
   "source": [
    "import keras\n",
    "import tensorflow\n",
    "import h5py\n",
    "import numpy as np\n",
    "import chowdhury_s_model_builder\n",
    "import os\n",
    "\n",
    "import tensorflow as tf\n",
    "from keras.api.models import Sequential, Model, load_model\n",
    "from keras.api.layers import Dense, Conv2D, Flatten, MaxPooling2D, Dropout, BatchNormalization, LSTM, Input, GlobalAveragePooling2D\n",
    "from keras.api.optimizers import Adam\n",
    "from keras import regularizers\n",
    "\n",
    "import tensorflow as tf\n",
    "print(tf.__version__)\n",
    "\n",
    "from sklearn.metrics import classification_report, multilabel_confusion_matrix, ConfusionMatrixDisplay\n",
    "from sklearn.metrics import precision_score, recall_score, f1_score\n",
    "import matplotlib.pyplot as plt"
   ]
  },
  {
   "cell_type": "code",
   "execution_count": 2,
   "id": "502a45cf",
   "metadata": {},
   "outputs": [
    {
     "name": "stdout",
     "output_type": "stream",
     "text": [
      "(5000, 256, 1292) float32\n",
      "(5000, 7) int8\n"
     ]
    }
   ],
   "source": [
    "with h5py.File(\"Data/Mid-Level_Perceptual_Features_Data.h5\", \"r\") as hf:\n",
    "    mid_level_train_data = hf[\"train\"][:]  # Load the train dataset\n",
    "    mid_level_label_data = hf[\"label\"][:]  # Load the label dataset\n",
    "\n",
    "print(mid_level_train_data.shape, mid_level_train_data.dtype)  # Check the shape and type\n",
    "print(mid_level_label_data.shape, mid_level_label_data.dtype)"
   ]
  },
  {
   "cell_type": "code",
   "execution_count": null,
   "id": "319d74cd",
   "metadata": {},
   "outputs": [],
   "source": [
    "mid_level_train_data = mid_level_train_data[..., np.newaxis]\n",
    "\n",
    "print(mid_level_train_data.shape, mid_level_train_data.dtype)  # Check the shape and type\n",
    "print(mid_level_label_data.shape, mid_level_label_data.dtype)"
   ]
  },
  {
   "cell_type": "code",
   "execution_count": null,
   "id": "6e99ae93",
   "metadata": {},
   "outputs": [],
   "source": [
    "mid_level_input_shape = mid_level_train_data.shape[1], mid_level_train_data.shape[2], mid_level_train_data.shape[3]\n",
    "print(mid_level_input_shape)"
   ]
  },
  {
   "cell_type": "code",
   "execution_count": null,
   "id": "7544a49d",
   "metadata": {},
   "outputs": [],
   "source": [
    "model = load_model(\"fine-tuned_model.keras\")\n",
    "model.summary()"
   ]
  },
  {
   "cell_type": "code",
   "execution_count": null,
   "id": "5884a812",
   "metadata": {},
   "outputs": [],
   "source": [
    "from sklearn.model_selection import train_test_split\n",
    "\n",
    "# Split the data into training and validation sets\n",
    "x_train_split, x_val, y_train_split, y_val = train_test_split(\n",
    "    mid_level_train_data, mid_level_label_data, test_size=0.5, random_state=42\n",
    ")"
   ]
  },
  {
   "cell_type": "code",
   "execution_count": null,
   "id": "1ee8358b",
   "metadata": {},
   "outputs": [],
   "source": [
    "model.compile(optimizer=Adam(learning_rate=3.1250e-05),\n",
    "                           loss='binary_crossentropy', metrics=[\"accuracy\"]\n",
    "                           )"
   ]
  },
  {
   "cell_type": "code",
   "execution_count": null,
   "id": "13fce79d",
   "metadata": {},
   "outputs": [],
   "source": [
    "results = model.evaluate(x_val, y_val, batch_size=8, verbose=1)\n",
    "print(\"Validation Loss:\", results[0])\n",
    "print(\"Validation Accuracy:\", results[1])\n",
    "# Predict the labels for the validation set"
   ]
  },
  {
   "cell_type": "code",
   "execution_count": null,
   "id": "471a8a4e",
   "metadata": {},
   "outputs": [],
   "source": [
    "x_val.shape, y_val.shape"
   ]
  },
  {
   "cell_type": "code",
   "execution_count": null,
   "id": "f1c1f95a",
   "metadata": {},
   "outputs": [],
   "source": [
    "single_sample = x_val[2500:]\n",
    "\n",
    "# Step 1: Predict the probabilities for each label\n",
    "predictions = model.predict(single_sample)\n",
    "print(\"Predictions (Probabilities):\", predictions)\n",
    "\n",
    "# Step 2: Apply the threshold (e.g., 0.4) to each label and convert to binary\n",
    "threshold = 0.4\n",
    "predicted_labels = (predictions > threshold).astype(int)\n",
    "print(f\"Predicted labels with threshold {threshold}:\", predicted_labels)\n",
    "\n",
    "# Step 3: For multi-label, you don't need np.argmax, just evaluate the predicted labels directly.\n",
    "# Here predicted_labels will be a 2D array with shape (1, num_labels), where each entry is 0 or 1.\n",
    "print(\"Predicted labels for multi-label classification:\", predicted_labels)\n",
    "\n",
    "# Now, to evaluate the true labels (ground truth) for the same sample\n",
    "true_labels = y_val[111:112]  # This should also be a binary vector like the predicted labels\n",
    "print(\"True labels:\", true_labels)\n"
   ]
  },
  {
   "cell_type": "code",
   "execution_count": null,
   "id": "bbfdbc56",
   "metadata": {},
   "outputs": [],
   "source": [
    "# Assuming 'model' is your trained model\n",
    "y_pred = model.predict(x_val)\n",
    "\n",
    "# Convert probabilities to binary labels (e.g., threshold at 0.5)\n",
    "y_pred_binary = (y_pred > 0.5).astype(int)"
   ]
  },
  {
   "cell_type": "code",
   "execution_count": null,
   "id": "fe3e5dc3",
   "metadata": {},
   "outputs": [],
   "source": [
    "\n",
    "label_names = ['melody', 'articulation', 'rhythm_complexity', 'rhythm_stability', 'dissonance', 'atonality', 'mode']\n",
    "# Generate the classification report\n",
    "report = classification_report(y_val, y_pred_binary, target_names=label_names)\n",
    "print(report)\n",
    "\n",
    "# Generate the multilabel confusion matrix\n",
    "mcm = multilabel_confusion_matrix(y_val, y_pred_binary)\n",
    "print(\"Multilabel Confusion Matrix:\")\n",
    "print(mcm)"
   ]
  },
  {
   "cell_type": "code",
   "execution_count": null,
   "id": "261e48de",
   "metadata": {},
   "outputs": [],
   "source": [
    "import seaborn as sns\n",
    "import matplotlib.pyplot as plt\n",
    "\n",
    "# Define label names\n",
    "label_names = ['melody', 'articulation', 'rhythm_complexity', 'rhythm_stability', 'dissonance', 'atonality', 'mode']\n",
    "\n",
    "# Plot the confusion matrix for each label\n",
    "for i, cm in enumerate(mcm):\n",
    "    print(f'Confusion Matrix for {label_names[i]}')\n",
    "    print('Actual', cm)\n",
    "    print(\"Predicted\")\n",
    "    # plt.figure(figsize=(6, 4))\n",
    "    # sns.heatmap(cm, annot=True, fmt='d', cmap='Blues', xticklabels=['Predicted Negative', 'Predicted Positive'], yticklabels=['Actual Negative', 'Actual Positive'])\n",
    "    # plt.title(f'Confusion Matrix for {label_names[i]}')\n",
    "    # plt.xlabel('Predicted')\n",
    "    # plt.ylabel('Actual')\n",
    "    # plt.show()\n"
   ]
  },
  {
   "cell_type": "code",
   "execution_count": null,
   "id": "b3c1467f",
   "metadata": {},
   "outputs": [],
   "source": [
    "import seaborn as sns\n",
    "import matplotlib.pyplot as plt\n",
    "import pandas as pd\n",
    "# import ace_tools as tools\n",
    "# Define label names\n",
    "label_names = ['melody', 'articulation', 'rhythm_complexity', 'rhythm_stability', 'dissonance', 'atonality', 'mode']\n",
    "\n",
    "metrics = []\n",
    "\n",
    "for i, cm in enumerate(mcm):\n",
    "    tn, fp = cm[0]\n",
    "    fn, tp = cm[1]\n",
    "    precision = tp / (tp + fp) if (tp + fp) > 0 else 0\n",
    "    recall = tp / (tp + fn) if (tp + fn) > 0 else 0\n",
    "    f1 = 2 * (precision * recall) / (precision + recall) if (precision + recall) > 0 else 0\n",
    "    accuracy = (tp + tn) / cm.sum()\n",
    "    metrics.append({\n",
    "        'label': label_names[i],\n",
    "        'precision': precision,\n",
    "        'recall': recall,\n",
    "        'f1_score': f1,\n",
    "        'accuracy': accuracy\n",
    "    })\n",
    "\n",
    "df_metrics = pd.DataFrame(metrics)\n",
    "# Display metrics table\n",
    "print(df_metrics)\n",
    "# tools.display_dataframe_to_user(name=\"Label-wise Metrics\", dataframe=df_metrics)\n",
    "\n",
    "# # Plot all confusion matrices in a grid\n",
    "# fig, axes = plt.subplots(2, 3, figsize=(15, 10))\n",
    "# axes = axes.flatten()\n",
    "# for i, cm in enumerate(cms):\n",
    "#     sns.heatmap(cm, annot=True, fmt='d', cmap='Blues',\n",
    "#                 xticklabels=['Pred Neg', 'Pred Pos'],\n",
    "#                 yticklabels=['True Neg', 'True Pos'],\n",
    "#                 ax=axes[i])\n",
    "#     axes[i].set_title(label_names[i])\n",
    "#     axes[i].set_xlabel('Predicted')\n",
    "#     axes[i].set_ylabel('Actual')\n",
    "\n",
    "# plt.tight_layout()\n",
    "plt.show()"
   ]
  },
  {
   "cell_type": "code",
   "execution_count": null,
   "id": "4e865007",
   "metadata": {},
   "outputs": [],
   "source": [
    "from sklearn.metrics import precision_score, recall_score, f1_score, accuracy_score\n",
    "\n",
    "thresholds = [0.3, 0.4, 0.5, 0.6]\n",
    "for t in thresholds:\n",
    "    preds = (model.predict(x_val) > t).astype(int)\n",
    "    precision = precision_score(y_val, preds, average='macro')\n",
    "    recall = recall_score(y_val, preds, average='macro')\n",
    "    f1 = f1_score(y_val, preds, average='macro')\n",
    "    accuracy = accuracy_score(y_val, preds)\n",
    "    print(f\"\\nThreshold: {t}\")\n",
    "    print(f\"  Precision: {precision:.4f}\")\n",
    "    print(f\"  Recall:    {recall:.4f}\")\n",
    "    print(f\"  F1 Score:  {f1:.4f}\")\n",
    "    print(f\"  Accuracy:  {accuracy:.4f}\")\n"
   ]
  }
 ],
 "metadata": {
  "kernelspec": {
   "display_name": "Python 3",
   "language": "python",
   "name": "python3"
  },
  "language_info": {
   "codemirror_mode": {
    "name": "ipython",
    "version": 3
   },
   "file_extension": ".py",
   "mimetype": "text/x-python",
   "name": "python",
   "nbconvert_exporter": "python",
   "pygments_lexer": "ipython3",
   "version": "3.12.3"
  }
 },
 "nbformat": 4,
 "nbformat_minor": 5
}
